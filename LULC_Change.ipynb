{
  "nbformat": 4,
  "nbformat_minor": 0,
  "metadata": {
    "colab": {
      "provenance": [],
      "authorship_tag": "ABX9TyPEqt/r9YTyT+ZFwqQFxw2v",
      "include_colab_link": true
    },
    "kernelspec": {
      "name": "python3",
      "display_name": "Python 3"
    },
    "language_info": {
      "name": "python"
    }
  },
  "cells": [
    {
      "cell_type": "markdown",
      "metadata": {
        "id": "view-in-github",
        "colab_type": "text"
      },
      "source": [
        "<a href=\"https://colab.research.google.com/github/AshHydroCoder/LULC-Change/blob/main/LULC_Change.ipynb\" target=\"_parent\"><img src=\"https://colab.research.google.com/assets/colab-badge.svg\" alt=\"Open In Colab\"/></a>"
      ]
    },
    {
      "cell_type": "code",
      "execution_count": 1,
      "metadata": {
        "colab": {
          "base_uri": "https://localhost:8080/"
        },
        "id": "6qgI70EazNg6",
        "outputId": "9350cd80-fed6-4b44-f2f8-283c12ec50e5"
      },
      "outputs": [
        {
          "output_type": "stream",
          "name": "stdout",
          "text": [
            "Mounted at /content/drive\n"
          ]
        }
      ],
      "source": [
        "from google.colab import drive\n",
        "drive.mount('/content/drive')"
      ]
    },
    {
      "cell_type": "code",
      "source": [
        "!pip install rasterio numpy matplotlib pandas\n",
        "!pip install pdfplumber"
      ],
      "metadata": {
        "colab": {
          "base_uri": "https://localhost:8080/"
        },
        "id": "8zmFhs-t2xTx",
        "outputId": "b1ed9b9a-cf1d-4072-81fe-f5437e7a8140"
      },
      "execution_count": 9,
      "outputs": [
        {
          "output_type": "stream",
          "name": "stdout",
          "text": [
            "Requirement already satisfied: rasterio in /usr/local/lib/python3.10/dist-packages (1.4.3)\n",
            "Requirement already satisfied: numpy in /usr/local/lib/python3.10/dist-packages (1.26.4)\n",
            "Requirement already satisfied: matplotlib in /usr/local/lib/python3.10/dist-packages (3.8.0)\n",
            "Requirement already satisfied: pandas in /usr/local/lib/python3.10/dist-packages (2.2.2)\n",
            "Requirement already satisfied: affine in /usr/local/lib/python3.10/dist-packages (from rasterio) (2.4.0)\n",
            "Requirement already satisfied: attrs in /usr/local/lib/python3.10/dist-packages (from rasterio) (24.3.0)\n",
            "Requirement already satisfied: certifi in /usr/local/lib/python3.10/dist-packages (from rasterio) (2024.12.14)\n",
            "Requirement already satisfied: click>=4.0 in /usr/local/lib/python3.10/dist-packages (from rasterio) (8.1.7)\n",
            "Requirement already satisfied: cligj>=0.5 in /usr/local/lib/python3.10/dist-packages (from rasterio) (0.7.2)\n",
            "Requirement already satisfied: click-plugins in /usr/local/lib/python3.10/dist-packages (from rasterio) (1.1.1)\n",
            "Requirement already satisfied: pyparsing in /usr/local/lib/python3.10/dist-packages (from rasterio) (3.2.0)\n",
            "Requirement already satisfied: contourpy>=1.0.1 in /usr/local/lib/python3.10/dist-packages (from matplotlib) (1.3.1)\n",
            "Requirement already satisfied: cycler>=0.10 in /usr/local/lib/python3.10/dist-packages (from matplotlib) (0.12.1)\n",
            "Requirement already satisfied: fonttools>=4.22.0 in /usr/local/lib/python3.10/dist-packages (from matplotlib) (4.55.3)\n",
            "Requirement already satisfied: kiwisolver>=1.0.1 in /usr/local/lib/python3.10/dist-packages (from matplotlib) (1.4.7)\n",
            "Requirement already satisfied: packaging>=20.0 in /usr/local/lib/python3.10/dist-packages (from matplotlib) (24.2)\n",
            "Requirement already satisfied: pillow>=6.2.0 in /usr/local/lib/python3.10/dist-packages (from matplotlib) (11.0.0)\n",
            "Requirement already satisfied: python-dateutil>=2.7 in /usr/local/lib/python3.10/dist-packages (from matplotlib) (2.8.2)\n",
            "Requirement already satisfied: pytz>=2020.1 in /usr/local/lib/python3.10/dist-packages (from pandas) (2024.2)\n",
            "Requirement already satisfied: tzdata>=2022.7 in /usr/local/lib/python3.10/dist-packages (from pandas) (2024.2)\n",
            "Requirement already satisfied: six>=1.5 in /usr/local/lib/python3.10/dist-packages (from python-dateutil>=2.7->matplotlib) (1.17.0)\n",
            "Collecting pdfplumber\n",
            "  Downloading pdfplumber-0.11.4-py3-none-any.whl.metadata (41 kB)\n",
            "\u001b[2K     \u001b[90m━━━━━━━━━━━━━━━━━━━━━━━━━━━━━━━━━━━━━━━━\u001b[0m \u001b[32m42.0/42.0 kB\u001b[0m \u001b[31m1.8 MB/s\u001b[0m eta \u001b[36m0:00:00\u001b[0m\n",
            "\u001b[?25hCollecting pdfminer.six==20231228 (from pdfplumber)\n",
            "  Downloading pdfminer.six-20231228-py3-none-any.whl.metadata (4.2 kB)\n",
            "Requirement already satisfied: Pillow>=9.1 in /usr/local/lib/python3.10/dist-packages (from pdfplumber) (11.0.0)\n",
            "Collecting pypdfium2>=4.18.0 (from pdfplumber)\n",
            "  Downloading pypdfium2-4.30.1-py3-none-manylinux_2_17_x86_64.manylinux2014_x86_64.whl.metadata (48 kB)\n",
            "\u001b[2K     \u001b[90m━━━━━━━━━━━━━━━━━━━━━━━━━━━━━━━━━━━━━━━━\u001b[0m \u001b[32m48.2/48.2 kB\u001b[0m \u001b[31m3.6 MB/s\u001b[0m eta \u001b[36m0:00:00\u001b[0m\n",
            "\u001b[?25hRequirement already satisfied: charset-normalizer>=2.0.0 in /usr/local/lib/python3.10/dist-packages (from pdfminer.six==20231228->pdfplumber) (3.4.0)\n",
            "Requirement already satisfied: cryptography>=36.0.0 in /usr/local/lib/python3.10/dist-packages (from pdfminer.six==20231228->pdfplumber) (43.0.3)\n",
            "Requirement already satisfied: cffi>=1.12 in /usr/local/lib/python3.10/dist-packages (from cryptography>=36.0.0->pdfminer.six==20231228->pdfplumber) (1.17.1)\n",
            "Requirement already satisfied: pycparser in /usr/local/lib/python3.10/dist-packages (from cffi>=1.12->cryptography>=36.0.0->pdfminer.six==20231228->pdfplumber) (2.22)\n",
            "Downloading pdfplumber-0.11.4-py3-none-any.whl (59 kB)\n",
            "\u001b[2K   \u001b[90m━━━━━━━━━━━━━━━━━━━━━━━━━━━━━━━━━━━━━━━━\u001b[0m \u001b[32m59.2/59.2 kB\u001b[0m \u001b[31m4.5 MB/s\u001b[0m eta \u001b[36m0:00:00\u001b[0m\n",
            "\u001b[?25hDownloading pdfminer.six-20231228-py3-none-any.whl (5.6 MB)\n",
            "\u001b[2K   \u001b[90m━━━━━━━━━━━━━━━━━━━━━━━━━━━━━━━━━━━━━━━━\u001b[0m \u001b[32m5.6/5.6 MB\u001b[0m \u001b[31m47.9 MB/s\u001b[0m eta \u001b[36m0:00:00\u001b[0m\n",
            "\u001b[?25hDownloading pypdfium2-4.30.1-py3-none-manylinux_2_17_x86_64.manylinux2014_x86_64.whl (2.9 MB)\n",
            "\u001b[2K   \u001b[90m━━━━━━━━━━━━━━━━━━━━━━━━━━━━━━━━━━━━━━━━\u001b[0m \u001b[32m2.9/2.9 MB\u001b[0m \u001b[31m61.1 MB/s\u001b[0m eta \u001b[36m0:00:00\u001b[0m\n",
            "\u001b[?25hInstalling collected packages: pypdfium2, pdfminer.six, pdfplumber\n",
            "Successfully installed pdfminer.six-20231228 pdfplumber-0.11.4 pypdfium2-4.30.1\n"
          ]
        }
      ]
    },
    {
      "cell_type": "code",
      "source": [
        "#Imports\n",
        "import os\n",
        "import zipfile\n",
        "import rasterio\n",
        "import numpy as np\n",
        "import matplotlib.pyplot as plt\n",
        "LULC_Folder = '/content/drive/MyDrive/Thesis/REGRID/LULC Data Nepal'\n",
        "OUT = '/content/drive/MyDrive/Thesis/REGRID/LULC Data Nepal/Output/'"
      ],
      "metadata": {
        "id": "rGouM1mwZW1m"
      },
      "execution_count": 4,
      "outputs": []
    },
    {
      "cell_type": "code",
      "source": [
        "#Extract tif files\n",
        "land_cover_data = {}\n",
        "for zip_file in os.listdir(LULC_Folder):\n",
        "    if zip_file.endswith('.zip'):\n",
        "        zip_path = os.path.join(LULC_Folder, zip_file)\n",
        "        year = zip_file.split('_')[-1][:-4]\n",
        "        with zipfile.ZipFile(zip_path, 'r') as zipf:\n",
        "            for file in zipf.namelist():\n",
        "              if file.endswith(\".tif\"):\n",
        "                zipf.extract(file,OUT)\n",
        "                extracted_file = os.path.join(OUT,file)\n",
        "                print(extracted_file)\n",
        "                new_file = os.path.join(OUT,f\"land_cover_{year}.tif\")\n",
        "                os.rename(extracted_file, new_file)\n",
        "                with rasterio.open(new_file) as src:\n",
        "                  land_cover_data[year] = src.read(1)"
      ],
      "metadata": {
        "colab": {
          "base_uri": "https://localhost:8080/"
        },
        "id": "lCNVQBso24DF",
        "outputId": "aabc9085-d4d7-46e3-fa44-28054abf6da4"
      },
      "execution_count": 6,
      "outputs": [
        {
          "output_type": "stream",
          "name": "stdout",
          "text": [
            "/content/drive/MyDrive/Thesis/REGRID/LULC Data Nepal/Output/nlcms_2000/data/lc2000.tif\n",
            "/content/drive/MyDrive/Thesis/REGRID/LULC Data Nepal/Output/nlcms_2001/data/lc2001.tif\n",
            "/content/drive/MyDrive/Thesis/REGRID/LULC Data Nepal/Output/nlcms_2002/data/lc2002.tif\n",
            "/content/drive/MyDrive/Thesis/REGRID/LULC Data Nepal/Output/nlcms_2004/data/lc2004.tif\n",
            "/content/drive/MyDrive/Thesis/REGRID/LULC Data Nepal/Output/nlcms_2005/data/lc2005.tif\n",
            "/content/drive/MyDrive/Thesis/REGRID/LULC Data Nepal/Output/nlcms_2007/data/lc2007.tif\n",
            "/content/drive/MyDrive/Thesis/REGRID/LULC Data Nepal/Output/nlcms_2008/data/lc2008.tif\n",
            "/content/drive/MyDrive/Thesis/REGRID/LULC Data Nepal/Output/nlcms_2006/data/lc2006.tif\n",
            "/content/drive/MyDrive/Thesis/REGRID/LULC Data Nepal/Output/nlcms_2010/data/lc2010.tif\n",
            "/content/drive/MyDrive/Thesis/REGRID/LULC Data Nepal/Output/nlcms_2009/data/lc2009.tif\n",
            "/content/drive/MyDrive/Thesis/REGRID/LULC Data Nepal/Output/nlcms_2011/data/lc2011.tif\n",
            "/content/drive/MyDrive/Thesis/REGRID/LULC Data Nepal/Output/nlcms_2013/data/lc2013.tif\n",
            "/content/drive/MyDrive/Thesis/REGRID/LULC Data Nepal/Output/nlcms_2015/data/lc2015.tif\n",
            "/content/drive/MyDrive/Thesis/REGRID/LULC Data Nepal/Output/nlcms_2014/data/lc2014.tif\n",
            "/content/drive/MyDrive/Thesis/REGRID/LULC Data Nepal/Output/nlcms_2016/data/lc2016.tif\n",
            "/content/drive/MyDrive/Thesis/REGRID/LULC Data Nepal/Output/nlcms_2017/data/lc2017.tif\n",
            "/content/drive/MyDrive/Thesis/REGRID/LULC Data Nepal/Output/nlcms_2019/data/lc2019.tif\n",
            "/content/drive/MyDrive/Thesis/REGRID/LULC Data Nepal/Output/nlcms_2018/data/lc2018.tif\n"
          ]
        }
      ]
    },
    {
      "cell_type": "code",
      "source": [
        "land_cover_data = {}\n",
        "for tif in os.listdir(OUT):\n",
        "  if tif.endswith(\".tif\"):\n",
        "    year = tif.split(\"_\")[-1][:-4]\n",
        "    with rasterio.open(os.path.join(OUT,tif)) as src:\n",
        "      land_cover_data[year] = src.read(1)\n",
        "years = sorted(land_cover_data.keys())\n"
      ],
      "metadata": {
        "id": "45G_aEtgZLlL"
      },
      "execution_count": 7,
      "outputs": []
    },
    {
      "cell_type": "code",
      "source": [
        "import pdfplumber\n",
        "pdf_path = '/content/drive/MyDrive/Thesis/REGRID/LULC Data Nepal/Data Description.pdf'\n",
        "land_cover_names = {}\n",
        "with pdfplumber.open(pdf_path) as pdf:\n",
        "    for page in pdf.pages:\n",
        "        text = page.extract_text()\n",
        "        lines = text.split('\\n')\n",
        "        for line in lines[2:]:\n",
        "          parts = line.split()\n",
        "          grid_value = int(parts[-1])\n",
        "          class_name = ' '.join(parts[:-1])\n",
        "          land_cover_names[grid_value] = class_name\n",
        "print(land_cover_names)"
      ],
      "metadata": {
        "colab": {
          "base_uri": "https://localhost:8080/"
        },
        "id": "QbCg8rfLoepH",
        "outputId": "26e747ee-538c-4cc3-c385-f678e2796cf1"
      },
      "execution_count": 11,
      "outputs": [
        {
          "output_type": "stream",
          "name": "stdout",
          "text": [
            "{1: 'Waterbody', 2: 'Glacier', 3: 'Snow', 4: 'Forest', 5: 'Riverbed', 6: 'Built-up area', 7: 'Cropland', 8: 'Bare soil', 9: 'Bare rock', 10: 'Grassland', 11: 'Other wooded land'}\n"
          ]
        }
      ]
    },
    {
      "cell_type": "code",
      "source": [
        "land_cover_classes = np.arange(1, 12)\n",
        "fractions = {lc_class: [] for lc_class in land_cover_classes}\n",
        "for year in years:\n",
        "    data = land_cover_data[year]\n",
        "    valid = data[data > 0]  # Exclude pixels with value 0 (no data)\n",
        "    total_pixels = valid.size  # Total number of pixels in the raster\n",
        "    for lc_class in land_cover_classes:\n",
        "        class_pixel_count = np.sum(data == lc_class)\n",
        "        fraction = class_pixel_count / total_pixels  # Calculate fraction\n",
        "        fractions[lc_class].append(fraction)\n",
        "\n",
        "# Step 3: Plot individual graphs for each land cover class\n",
        "for lc_class in land_cover_classes:\n",
        "    plt.figure(figsize=(8, 6))\n",
        "\n",
        "    # Get fraction values for the class\n",
        "    fractions_class = fractions[lc_class]\n",
        "    max_fraction = max(fractions_class)\n",
        "    min_fraction = min(fractions_class)\n",
        "\n",
        "    # Plot the graph\n",
        "    plt.plot(years, fractions_class, marker='o', linestyle='-', color='b')\n",
        "    class_name = land_cover_names.get(lc_class, f\"Class {lc_class}\")  # Use name if available\n",
        "    plt.title(f\"Fraction of Land Cover Class: {class_name}\", fontsize=14)\n",
        "    plt.xlabel(\"Year\", fontsize=12)\n",
        "    plt.ylabel(\"Fraction of Total Area\", fontsize=12)\n",
        "    plt.ylim(min_fraction - 0.01, max_fraction + 0.01)  # Dynamic range\n",
        "    plt.grid(True)\n",
        "    plt.legend([class_name], title=\"Land Cover Class\")\n",
        "    plt.tight_layout()\n",
        "    plt.show()"
      ],
      "metadata": {
        "id": "DJVw35J3ozAJ",
        "collapsed": true
      },
      "execution_count": null,
      "outputs": []
    }
  ]
}